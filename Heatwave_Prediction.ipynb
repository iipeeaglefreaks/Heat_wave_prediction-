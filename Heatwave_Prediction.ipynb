{
  "nbformat": 4,
  "nbformat_minor": 0,
  "metadata": {
    "colab": {
      "provenance": []
    },
    "kernelspec": {
      "name": "python3",
      "display_name": "Python 3"
    },
    "language_info": {
      "name": "python"
    }
  },
  "cells": [
    {
      "cell_type": "markdown",
      "source": [
        "## Considering data as data vs time and using prophet library to forecast which shown good results"
      ],
      "metadata": {
        "id": "kpNo2vb_IPfe"
      }
    },
    {
      "cell_type": "code",
      "source": [
        "from google.colab import drive\n",
        "drive.mount('/content/drive')"
      ],
      "metadata": {
        "colab": {
          "base_uri": "https://localhost:8080/"
        },
        "id": "dCIDiieoyNWI",
        "outputId": "2bb422bf-8310-4776-8bd1-7ac0a4060582"
      },
      "execution_count": null,
      "outputs": [
        {
          "output_type": "stream",
          "name": "stdout",
          "text": [
            "Drive already mounted at /content/drive; to attempt to forcibly remount, call drive.mount(\"/content/drive\", force_remount=True).\n"
          ]
        }
      ]
    },
    {
      "cell_type": "code",
      "execution_count": 1,
      "metadata": {
        "colab": {
          "base_uri": "https://localhost:8080/"
        },
        "id": "MKGtJVyLTwhx",
        "outputId": "56518bea-4f67-4c24-e976-9399362ca62b"
      },
      "outputs": [
        {
          "output_type": "stream",
          "name": "stdout",
          "text": [
            "Looking in indexes: https://pypi.org/simple, https://us-python.pkg.dev/colab-wheels/public/simple/\n",
            "Requirement already satisfied: prophet in /usr/local/lib/python3.8/dist-packages (1.1.2)\n",
            "Requirement already satisfied: python-dateutil>=2.8.0 in /usr/local/lib/python3.8/dist-packages (from prophet) (2.8.2)\n",
            "Requirement already satisfied: numpy>=1.15.4 in /usr/local/lib/python3.8/dist-packages (from prophet) (1.22.4)\n",
            "Requirement already satisfied: matplotlib>=2.0.0 in /usr/local/lib/python3.8/dist-packages (from prophet) (3.5.3)\n",
            "Requirement already satisfied: tqdm>=4.36.1 in /usr/local/lib/python3.8/dist-packages (from prophet) (4.64.1)\n",
            "Requirement already satisfied: holidays>=0.14.2 in /usr/local/lib/python3.8/dist-packages (from prophet) (0.20)\n",
            "Requirement already satisfied: LunarCalendar>=0.0.9 in /usr/local/lib/python3.8/dist-packages (from prophet) (0.0.9)\n",
            "Requirement already satisfied: cmdstanpy>=1.0.4 in /usr/local/lib/python3.8/dist-packages (from prophet) (1.1.0)\n",
            "Requirement already satisfied: pandas>=1.0.4 in /usr/local/lib/python3.8/dist-packages (from prophet) (1.3.5)\n",
            "Requirement already satisfied: convertdate>=2.1.2 in /usr/local/lib/python3.8/dist-packages (from prophet) (2.4.0)\n",
            "Requirement already satisfied: pymeeus<=1,>=0.3.13 in /usr/local/lib/python3.8/dist-packages (from convertdate>=2.1.2->prophet) (0.5.12)\n",
            "Requirement already satisfied: hijri-converter in /usr/local/lib/python3.8/dist-packages (from holidays>=0.14.2->prophet) (2.2.4)\n",
            "Requirement already satisfied: korean-lunar-calendar in /usr/local/lib/python3.8/dist-packages (from holidays>=0.14.2->prophet) (0.3.1)\n",
            "Requirement already satisfied: pytz in /usr/local/lib/python3.8/dist-packages (from LunarCalendar>=0.0.9->prophet) (2022.7.1)\n",
            "Requirement already satisfied: ephem>=3.7.5.3 in /usr/local/lib/python3.8/dist-packages (from LunarCalendar>=0.0.9->prophet) (4.1.4)\n",
            "Requirement already satisfied: pillow>=6.2.0 in /usr/local/lib/python3.8/dist-packages (from matplotlib>=2.0.0->prophet) (8.4.0)\n",
            "Requirement already satisfied: kiwisolver>=1.0.1 in /usr/local/lib/python3.8/dist-packages (from matplotlib>=2.0.0->prophet) (1.4.4)\n",
            "Requirement already satisfied: pyparsing>=2.2.1 in /usr/local/lib/python3.8/dist-packages (from matplotlib>=2.0.0->prophet) (3.0.9)\n",
            "Requirement already satisfied: packaging>=20.0 in /usr/local/lib/python3.8/dist-packages (from matplotlib>=2.0.0->prophet) (23.0)\n",
            "Requirement already satisfied: fonttools>=4.22.0 in /usr/local/lib/python3.8/dist-packages (from matplotlib>=2.0.0->prophet) (4.38.0)\n",
            "Requirement already satisfied: cycler>=0.10 in /usr/local/lib/python3.8/dist-packages (from matplotlib>=2.0.0->prophet) (0.11.0)\n",
            "Requirement already satisfied: six>=1.5 in /usr/local/lib/python3.8/dist-packages (from python-dateutil>=2.8.0->prophet) (1.15.0)\n"
          ]
        }
      ],
      "source": [
        "!pip install prophet\n",
        "\n",
        "import prophet"
      ]
    },
    {
      "cell_type": "code",
      "source": [
        "import pandas as pd"
      ],
      "metadata": {
        "id": "Nr0z8oxzT7QU"
      },
      "execution_count": 2,
      "outputs": []
    },
    {
      "cell_type": "code",
      "source": [
        "dates_2023 = pd.date_range(start='2023-01-01', end='2023-12-31')"
      ],
      "metadata": {
        "id": "D9IAziZrUXJb"
      },
      "execution_count": 3,
      "outputs": []
    },
    {
      "cell_type": "code",
      "source": [
        "import pandas as pd\n",
        "from prophet import Prophet\n",
        "\n",
        "# Read in the air quality data\n",
        "data = pd.read_csv('/content/HW_data_Adilabad.csv')\n",
        "\n",
        "# Convert the date column to a datetime type\n",
        "data['Date'] = pd.to_datetime(data['Date'])\n",
        "\n",
        "# Rename the columns to ds and y for Prophet input\n",
        "data = data.rename(columns={'Date': 'ds', 'Temp': 'y'})\n",
        "\n",
        "# Create a Prophet model and fit the data\n",
        "model = Prophet()\n",
        "model.fit(data)\n",
        "\n",
        "# Create a future dataframe for the date you want to forecast\n",
        "future = pd.DataFrame({'ds': dates_2023})\n",
        "\n",
        "# Use the model to make a forecast for the future date\n",
        "forecast = model.predict(future)\n",
        "\n",
        "# Print the forecasted air quality index for the future date\n",
        "print(forecast['yhat'])"
      ],
      "metadata": {
        "colab": {
          "base_uri": "https://localhost:8080/"
        },
        "id": "L2CceD38T8iO",
        "outputId": "264d4ece-cf46-4fd9-b046-c18e8a7d3eac"
      },
      "execution_count": 4,
      "outputs": [
        {
          "output_type": "stream",
          "name": "stderr",
          "text": [
            "INFO:prophet:Disabling daily seasonality. Run prophet with daily_seasonality=True to override this.\n",
            "DEBUG:cmdstanpy:input tempfile: /tmp/tmpf43j52jt/iqo0nmiy.json\n",
            "DEBUG:cmdstanpy:input tempfile: /tmp/tmpf43j52jt/0uq6q8c6.json\n",
            "DEBUG:cmdstanpy:idx 0\n",
            "DEBUG:cmdstanpy:running CmdStan, num_threads: None\n",
            "DEBUG:cmdstanpy:CmdStan args: ['/usr/local/lib/python3.8/dist-packages/prophet/stan_model/prophet_model.bin', 'random', 'seed=16628', 'data', 'file=/tmp/tmpf43j52jt/iqo0nmiy.json', 'init=/tmp/tmpf43j52jt/0uq6q8c6.json', 'output', 'file=/tmp/tmpf43j52jt/prophet_modelxo__sw5k/prophet_model-20230304174759.csv', 'method=optimize', 'algorithm=lbfgs', 'iter=10000']\n",
            "17:47:59 - cmdstanpy - INFO - Chain [1] start processing\n",
            "INFO:cmdstanpy:Chain [1] start processing\n",
            "17:47:59 - cmdstanpy - INFO - Chain [1] done processing\n",
            "INFO:cmdstanpy:Chain [1] done processing\n"
          ]
        },
        {
          "output_type": "stream",
          "name": "stdout",
          "text": [
            "0      32.410592\n",
            "1      32.141826\n",
            "2      32.390122\n",
            "3      32.408731\n",
            "4      32.436578\n",
            "         ...    \n",
            "360    33.811763\n",
            "361    33.833907\n",
            "362    33.607045\n",
            "363    33.522144\n",
            "364    33.691812\n",
            "Name: yhat, Length: 365, dtype: float64\n"
          ]
        }
      ]
    },
    {
      "cell_type": "code",
      "source": [
        "forecast['yhat'].plot()\n",
        "# if temperature of above 40 degree occured on five consecutive days, we can say heatwave has occured."
      ],
      "metadata": {
        "colab": {
          "base_uri": "https://localhost:8080/",
          "height": 283
        },
        "id": "ZzbvdB3wUZi6",
        "outputId": "4b7c1405-bf32-4470-80d8-8a819ec1cfe7"
      },
      "execution_count": 6,
      "outputs": [
        {
          "output_type": "execute_result",
          "data": {
            "text/plain": [
              "<AxesSubplot:>"
            ]
          },
          "metadata": {},
          "execution_count": 6
        },
        {
          "output_type": "display_data",
          "data": {
            "text/plain": [
              "<Figure size 432x288 with 1 Axes>"
            ],
            "image/png": "[encoded data removed]"
          },
          "metadata": {
            "needs_background": "light"
          }
        }
      ]
    },
    {
      "cell_type": "code",
      "source": [
        "dates_2022 = pd.date_range(start='2022-01-01', end='2022-12-31')"
      ],
      "metadata": {
        "id": "o9N9tnaKfem1"
      },
      "execution_count": 7,
      "outputs": []
    },
    {
      "cell_type": "code",
      "source": [
        "future2 = pd.DataFrame({'ds': dates_2023})\n",
        "\n",
        "# Use the model to make a forecast for the future date\n",
        "forecast2 = model.predict(future2)"
      ],
      "metadata": {
        "id": "J_g7HpQffPkR"
      },
      "execution_count": 8,
      "outputs": []
    },
    {
      "cell_type": "code",
      "source": [
        "data"
      ],
      "metadata": {
        "colab": {
          "base_uri": "https://localhost:8080/",
          "height": 679
        },
        "id": "Q7jgK9i5fjfc",
        "outputId": "31a387ce-446a-4163-d46a-ee57eacea7bd"
      },
      "execution_count": 9,
      "outputs": [
        {
          "output_type": "execute_result",
          "data": {
            "text/plain": [
              "      District          Mandal         ds  Rainfall (mm)  temp_min      y  \\\n",
              "0     Adilabad  Adilabad Urban 2020-01-01           14.0       16.4  26.6   \n",
              "1     Adilabad  Adilabad Urban 2020-01-02            2.2       17.1  26.8   \n",
              "2     Adilabad  Adilabad Urban 2020-01-03           27.8       16.9  22.9   \n",
              "3     Adilabad  Adilabad Urban 2020-01-04            0.0       16.3  21.3   \n",
              "4     Adilabad  Adilabad Urban 2020-01-05            0.0       14.6  24.7   \n",
              "...        ...             ...        ...            ...        ...   ...   \n",
              "1049  Adilabad  Adilabad Urban 2022-12-27            0.0       19.1  32.5   \n",
              "1050  Adilabad  Adilabad Urban 2022-12-28            0.0       19.5  34.6   \n",
              "1051  Adilabad  Adilabad Urban 2022-12-29            0.0       18.4  34.6   \n",
              "1052  Adilabad  Adilabad Urban 2022-12-30            0.0       16.1  32.4   \n",
              "1053  Adilabad  Adilabad Urban 2022-12-31            0.0       16.3  34.6   \n",
              "\n",
              "      humidity_min (%)  humidity_max (%)  wind_speed_min (Kmph)  \\\n",
              "0                 67.8              87.6                    0.0   \n",
              "1                 72.7              98.7                    0.0   \n",
              "2                 86.3             100.0                    0.0   \n",
              "3                 85.5             100.0                    0.0   \n",
              "4                 77.6             100.0                    0.0   \n",
              "...                ...               ...                    ...   \n",
              "1049              43.4              99.9                    0.0   \n",
              "1050              49.7              99.9                    0.0   \n",
              "1051              44.9              99.9                    0.0   \n",
              "1052              41.3              99.9                    0.0   \n",
              "1053              33.1              99.9                    0.0   \n",
              "\n",
              "      wind_speed_max (Kmph)  \n",
              "0                       8.2  \n",
              "1                       3.7  \n",
              "2                       7.5  \n",
              "3                       4.2  \n",
              "4                       1.6  \n",
              "...                     ...  \n",
              "1049                    6.3  \n",
              "1050                    6.5  \n",
              "1051                    0.3  \n",
              "1052                    2.0  \n",
              "1053                    1.2  \n",
              "\n",
              "[1054 rows x 10 columns]"
            ],
            "text/html": [
              "\n",
              "  <div id=\"df-15b0ff25-dc99-4e9d-adbe-0a82d152a140\">\n",
              "    <div class=\"colab-df-container\">\n",
              "      <div>\n",
              "<style scoped>\n",
              "    .dataframe tbody tr th:only-of-type {\n",
              "        vertical-align: middle;\n",
              "    }\n",
              "\n",
              "    .dataframe tbody tr th {\n",
              "        vertical-align: top;\n",
              "    }\n",
              "\n",
              "    .dataframe thead th {\n",
              "        text-align: right;\n",
              "    }\n",
              "</style>\n",
              "<table border=\"1\" class=\"dataframe\">\n",
              "  <thead>\n",
              "    <tr style=\"text-align: right;\">\n",
              "      <th></th>\n",
              "      <th>District</th>\n",
              "      <th>Mandal</th>\n",
              "      <th>ds</th>\n",
              "      <th>Rainfall (mm)</th>\n",
              "      <th>temp_min</th>\n",
              "      <th>y</th>\n",
              "      <th>humidity_min (%)</th>\n",
              "      <th>humidity_max (%)</th>\n",
              "      <th>wind_speed_min (Kmph)</th>\n",
              "      <th>wind_speed_max (Kmph)</th>\n",
              "    </tr>\n",
              "  </thead>\n",
              "  <tbody>\n",
              "    <tr>\n",
              "      <th>0</th>\n",
              "      <td>Adilabad</td>\n",
              "      <td>Adilabad Urban</td>\n",
              "      <td>2020-01-01</td>\n",
              "      <td>14.0</td>\n",
              "      <td>16.4</td>\n",
              "      <td>26.6</td>\n",
              "      <td>67.8</td>\n",
              "      <td>87.6</td>\n",
              "      <td>0.0</td>\n",
              "      <td>8.2</td>\n",
              "    </tr>\n",
              "    <tr>\n",
              "      <th>1</th>\n",
              "      <td>Adilabad</td>\n",
              "      <td>Adilabad Urban</td>\n",
              "      <td>2020-01-02</td>\n",
              "      <td>2.2</td>\n",
              "      <td>17.1</td>\n",
              "      <td>26.8</td>\n",
              "      <td>72.7</td>\n",
              "      <td>98.7</td>\n",
              "      <td>0.0</td>\n",
              "      <td>3.7</td>\n",
              "    </tr>\n",
              "    <tr>\n",
              "      <th>2</th>\n",
              "      <td>Adilabad</td>\n",
              "      <td>Adilabad Urban</td>\n",
              "      <td>2020-01-03</td>\n",
              "      <td>27.8</td>\n",
              "      <td>16.9</td>\n",
              "      <td>22.9</td>\n",
              "      <td>86.3</td>\n",
              "      <td>100.0</td>\n",
              "      <td>0.0</td>\n",
              "      <td>7.5</td>\n",
              "    </tr>\n",
              "    <tr>\n",
              "      <th>3</th>\n",
              "      <td>Adilabad</td>\n",
              "      <td>Adilabad Urban</td>\n",
              "      <td>2020-01-04</td>\n",
              "      <td>0.0</td>\n",
              "      <td>16.3</td>\n",
              "      <td>21.3</td>\n",
              "      <td>85.5</td>\n",
              "      <td>100.0</td>\n",
              "      <td>0.0</td>\n",
              "      <td>4.2</td>\n",
              "    </tr>\n",
              "    <tr>\n",
              "      <th>4</th>\n",
              "      <td>Adilabad</td>\n",
              "      <td>Adilabad Urban</td>\n",
              "      <td>2020-01-05</td>\n",
              "      <td>0.0</td>\n",
              "      <td>14.6</td>\n",
              "      <td>24.7</td>\n",
              "      <td>77.6</td>\n",
              "      <td>100.0</td>\n",
              "      <td>0.0</td>\n",
              "      <td>1.6</td>\n",
              "    </tr>\n",
              "    <tr>\n",
              "      <th>...</th>\n",
              "      <td>...</td>\n",
              "      <td>...</td>\n",
              "      <td>...</td>\n",
              "      <td>...</td>\n",
              "      <td>...</td>\n",
              "      <td>...</td>\n",
              "      <td>...</td>\n",
              "      <td>...</td>\n",
              "      <td>...</td>\n",
              "      <td>...</td>\n",
              "    </tr>\n",
              "    <tr>\n",
              "      <th>1049</th>\n",
              "      <td>Adilabad</td>\n",
              "      <td>Adilabad Urban</td>\n",
              "      <td>2022-12-27</td>\n",
              "      <td>0.0</td>\n",
              "      <td>19.1</td>\n",
              "      <td>32.5</td>\n",
              "      <td>43.4</td>\n",
              "      <td>99.9</td>\n",
              "      <td>0.0</td>\n",
              "      <td>6.3</td>\n",
              "    </tr>\n",
              "    <tr>\n",
              "      <th>1050</th>\n",
              "      <td>Adilabad</td>\n",
              "      <td>Adilabad Urban</td>\n",
              "      <td>2022-12-28</td>\n",
              "      <td>0.0</td>\n",
              "      <td>19.5</td>\n",
              "      <td>34.6</td>\n",
              "      <td>49.7</td>\n",
              "      <td>99.9</td>\n",
              "      <td>0.0</td>\n",
              "      <td>6.5</td>\n",
              "    </tr>\n",
              "    <tr>\n",
              "      <th>1051</th>\n",
              "      <td>Adilabad</td>\n",
              "      <td>Adilabad Urban</td>\n",
              "      <td>2022-12-29</td>\n",
              "      <td>0.0</td>\n",
              "      <td>18.4</td>\n",
              "      <td>34.6</td>\n",
              "      <td>44.9</td>\n",
              "      <td>99.9</td>\n",
              "      <td>0.0</td>\n",
              "      <td>0.3</td>\n",
              "    </tr>\n",
              "    <tr>\n",
              "      <th>1052</th>\n",
              "      <td>Adilabad</td>\n",
              "      <td>Adilabad Urban</td>\n",
              "      <td>2022-12-30</td>\n",
              "      <td>0.0</td>\n",
              "      <td>16.1</td>\n",
              "      <td>32.4</td>\n",
              "      <td>41.3</td>\n",
              "      <td>99.9</td>\n",
              "      <td>0.0</td>\n",
              "      <td>2.0</td>\n",
              "    </tr>\n",
              "    <tr>\n",
              "      <th>1053</th>\n",
              "      <td>Adilabad</td>\n",
              "      <td>Adilabad Urban</td>\n",
              "      <td>2022-12-31</td>\n",
              "      <td>0.0</td>\n",
              "      <td>16.3</td>\n",
              "      <td>34.6</td>\n",
              "      <td>33.1</td>\n",
              "      <td>99.9</td>\n",
              "      <td>0.0</td>\n",
              "      <td>1.2</td>\n",
              "    </tr>\n",
              "  </tbody>\n",
              "</table>\n",
              "<p>1054 rows × 10 columns</p>\n",
              "</div>\n",
              "      <button class=\"colab-df-convert\" onclick=\"convertToInteractive('df-15b0ff25-dc99-4e9d-adbe-0a82d152a140')\"\n",
              "              title=\"Convert this dataframe to an interactive table.\"\n",
              "              style=\"display:none;\">\n",
              "        \n",
              "  <svg xmlns=\"http://www.w3.org/2000/svg\" height=\"24px\"viewBox=\"0 0 24 24\"\n",
              "       width=\"24px\">\n",
              "    <path d=\"M0 0h24v24H0V0z\" fill=\"none\"/>\n",
              "    <path d=\"M18.56 5.44l.94 2.06.94-2.06 2.06-.94-2.06-.94-.94-2.06-.94 2.06-2.06.94zm-11 1L8.5 8.5l.94-2.06 2.06-.94-2.06-.94L8.5 2.5l-.94 2.06-2.06.94zm10 10l.94 2.06.94-2.06 2.06-.94-2.06-.94-.94-2.06-.94 2.06-2.06.94z\"/><path d=\"M17.41 7.96l-1.37-1.37c-.4-.4-.92-.59-1.43-.59-.52 0-1.04.2-1.43.59L10.3 9.45l-7.72 7.72c-.78.78-.78 2.05 0 2.83L4 21.41c.39.39.9.59 1.41.59.51 0 1.02-.2 1.41-.59l7.78-7.78 2.81-2.81c.8-.78.8-2.07 0-2.86zM5.41 20L4 18.59l7.72-7.72 1.47 1.35L5.41 20z\"/>\n",
              "  </svg>\n",
              "      </button>\n",
              "      \n",
              "  <style>\n",
              "    .colab-df-container {\n",
              "      display:flex;\n",
              "      flex-wrap:wrap;\n",
              "      gap: 12px;\n",
              "    }\n",
              "\n",
              "    .colab-df-convert {\n",
              "      background-color: #E8F0FE;\n",
              "      border: none;\n",
              "      border-radius: 50%;\n",
              "      cursor: pointer;\n",
              "      display: none;\n",
              "      fill: #1967D2;\n",
              "      height: 32px;\n",
              "      padding: 0 0 0 0;\n",
              "      width: 32px;\n",
              "    }\n",
              "\n",
              "    .colab-df-convert:hover {\n",
              "      background-color: #E2EBFA;\n",
              "      box-shadow: 0px 1px 2px rgba(60, 64, 67, 0.3), 0px 1px 3px 1px rgba(60, 64, 67, 0.15);\n",
              "      fill: #174EA6;\n",
              "    }\n",
              "\n",
              "    [theme=dark] .colab-df-convert {\n",
              "      background-color: #3B4455;\n",
              "      fill: #D2E3FC;\n",
              "    }\n",
              "\n",
              "    [theme=dark] .colab-df-convert:hover {\n",
              "      background-color: #434B5C;\n",
              "      box-shadow: 0px 1px 3px 1px rgba(0, 0, 0, 0.15);\n",
              "      filter: drop-shadow(0px 1px 2px rgba(0, 0, 0, 0.3));\n",
              "      fill: #FFFFFF;\n",
              "    }\n",
              "  </style>\n",
              "\n",
              "      <script>\n",
              "        const buttonEl =\n",
              "          document.querySelector('#df-15b0ff25-dc99-4e9d-adbe-0a82d152a140 button.colab-df-convert');\n",
              "        buttonEl.style.display =\n",
              "          google.colab.kernel.accessAllowed ? 'block' : 'none';\n",
              "\n",
              "        async function convertToInteractive(key) {\n",
              "          const element = document.querySelector('#df-15b0ff25-dc99-4e9d-adbe-0a82d152a140');\n",
              "          const dataTable =\n",
              "            await google.colab.kernel.invokeFunction('convertToInteractive',\n",
              "                                                     [key], {});\n",
              "          if (!dataTable) return;\n",
              "\n",
              "          const docLinkHtml = 'Like what you see? Visit the ' +\n",
              "            '<a target=\"_blank\" href=https://colab.research.google.com/notebooks/data_table.ipynb>data table notebook</a>'\n",
              "            + ' to learn more about interactive tables.';\n",
              "          element.innerHTML = '';\n",
              "          dataTable['output_type'] = 'display_data';\n",
              "          await google.colab.output.renderOutput(dataTable, element);\n",
              "          const docLink = document.createElement('div');\n",
              "          docLink.innerHTML = docLinkHtml;\n",
              "          element.appendChild(docLink);\n",
              "        }\n",
              "      </script>\n",
              "    </div>\n",
              "  </div>\n",
              "  "
            ]
          },
          "metadata": {},
          "execution_count": 9
        }
      ]
    },
    {
      "cell_type": "code",
      "source": [
        "data.dtypes"
      ],
      "metadata": {
        "colab": {
          "base_uri": "https://localhost:8080/"
        },
        "id": "1lK_ca_3foV8",
        "outputId": "18a87bc3-16d8-4224-fad9-d91a3ad91c67"
      },
      "execution_count": 10,
      "outputs": [
        {
          "output_type": "execute_result",
          "data": {
            "text/plain": [
              "District                         object\n",
              "Mandal                           object\n",
              "ds                       datetime64[ns]\n",
              "Rainfall (mm)                   float64\n",
              "temp_min                        float64\n",
              "y                               float64\n",
              "humidity_min (%)                float64\n",
              "humidity_max (%)                float64\n",
              "wind_speed_min (Kmph)           float64\n",
              "wind_speed_max (Kmph)           float64\n",
              "dtype: object"
            ]
          },
          "metadata": {},
          "execution_count": 10
        }
      ]
    }
  ]
}