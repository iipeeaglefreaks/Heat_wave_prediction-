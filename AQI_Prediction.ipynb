{
  "nbformat": 4,
  "nbformat_minor": 0,
  "metadata": {
    "colab": {
      "provenance": []
    },
    "kernelspec": {
      "name": "python3",
      "display_name": "Python 3"
    },
    "language_info": {
      "name": "python"
    },
    "accelerator": "GPU",
    "gpuClass": "standard"
  },
  "cells": [
    {
      "cell_type": "markdown",
      "source": [
        "###Considering data as continous monthly data with dates\n"
      ],
      "metadata": {
        "id": "cd30ub0WHvBf"
      }
    },
    {
      "cell_type": "code",
      "source": [
        "from google.colab import drive\n",
        "drive.mount('/content/drive')"
      ],
      "metadata": {
        "id": "ayyzbV5d1DGO",
        "outputId": "1a4b9c57-42ec-49ad-b500-01b3bfa7d7b7",
        "colab": {
          "base_uri": "https://localhost:8080/"
        }
      },
      "execution_count": null,
      "outputs": [
        {
          "output_type": "stream",
          "name": "stdout",
          "text": [
            "Mounted at /content/drive\n"
          ]
        }
      ]
    },
    {
      "cell_type": "code",
      "source": [
        "import numpy as np\n",
        "import pandas as pd\n",
        "from sklearn.preprocessing import MinMaxScaler\n",
        "from tensorflow.keras.models import Sequential\n",
        "from tensorflow.keras.layers import LSTM, Dense\n",
        "\n",
        "# load data\n",
        "df = pd.read_csv('/content/drive/MyDrive/Data/AQI_data.csv')\n",
        "df['date'] = pd.to_datetime(df.date, format='%d-%m-%Y')\n",
        "df['date']=df.date.dt.strftime('%Y/%d/%m')\n",
        "df = df.set_index('date')\n",
        "\n",
        "# preprocess data\n",
        "scaler = MinMaxScaler()\n",
        "df_scaled = scaler.fit_transform(df)\n",
        "\n",
        "# split data into training and test sets\n",
        "train_size = int(len(df_scaled) * 0.8)\n",
        "train, test = df_scaled[:train_size, :], df_scaled[train_size:, :]\n",
        "\n",
        "# create sequences for LSTM model\n",
        "def create_sequences(dataset, seq_length):\n",
        "    X, y = [], []\n",
        "    for i in range(len(dataset) - seq_length):\n",
        "        X.append(dataset[i:i+seq_length, :])\n",
        "        y.append(dataset[i+seq_length, 0])\n",
        "    return np.array(X), np.array(y)\n",
        "\n",
        "seq_length = 60 # use 60 monthly time steps as input for LSTM\n",
        "train_X, train_y = create_sequences(train, seq_length)\n",
        "test_X, test_y = create_sequences(test, seq_length)\n",
        "\n",
        "# define LSTM model\n",
        "model = Sequential()\n",
        "model.add(LSTM(64, input_shape=(seq_length, train.shape[1])))\n",
        "model.add(Dense(1))\n",
        "model.compile(loss='mse', optimizer='adam')\n",
        "\n",
        "# train LSTM model\n",
        "model.fit(train_X, train_y, epochs=50, batch_size=16, verbose=2)\n",
        "\n",
        "# use LSTM model to forecast AQI for 2023\n",
        "num_forecasts = 12 # forecast for 12 months in 2023\n",
        "forecast_X = np.empty((num_forecasts, seq_length, train.shape[1]))\n",
        "last_train_seq = train_X[-1] # last sequence in training set\n",
        "forecast_X[0] = last_train_seq # first input for forecasting\n",
        "for i in range(1, num_forecasts):\n",
        "    last_seq_pred = model.predict(np.array([last_train_seq]))[0][0] # predict next value based on last sequence\n",
        "    last_train_seq = np.append(last_train_seq[1:], [[last_seq_pred]], axis=0) # add predicted value to sequence\n",
        "    forecast_X[i] = last_train_seq # add sequence to input for forecasting\n",
        "\n",
        "# forecast = scaler.inverse_transform(np.concatenate((df[-12:].values, forecast), axis=0))\n",
        "forecast = model.predict(forecast_X)\n",
        "forecast = scaler.inverse_transform(forecast)\n",
        "\n",
        "\n",
        "# plot actual vs forecasted AQI values\n",
        "import matplotlib.pyplot as plt\n",
        "plt.plot(list(forecast))\n",
        "plt.show()"
      ],
      "metadata": {
        "colab": {
          "base_uri": "https://localhost:8080/",
          "height": 365
        },
        "id": "tBoekvbPr240",
        "outputId": "d9d9c188-bb13-4d3e-d8c5-e594a32ac6aa"
      },
      "execution_count": 2,
      "outputs": [
        {
          "output_type": "error",
          "ename": "AttributeError",
          "evalue": "ignored",
          "traceback": [
            "\u001b[0;31m---------------------------------------------------------------------------\u001b[0m",
            "\u001b[0;31mAttributeError\u001b[0m                            Traceback (most recent call last)",
            "\u001b[0;32m<ipython-input-2-10c21d370136>\u001b[0m in \u001b[0;36m<module>\u001b[0;34m\u001b[0m\n\u001b[1;32m      7\u001b[0m \u001b[0;31m# load data\u001b[0m\u001b[0;34m\u001b[0m\u001b[0;34m\u001b[0m\u001b[0;34m\u001b[0m\u001b[0m\n\u001b[1;32m      8\u001b[0m \u001b[0mdf\u001b[0m \u001b[0;34m=\u001b[0m \u001b[0mpd\u001b[0m\u001b[0;34m.\u001b[0m\u001b[0mread_csv\u001b[0m\u001b[0;34m(\u001b[0m\u001b[0;34m'/content/drive/MyDrive/Data/AQI_data.csv'\u001b[0m\u001b[0;34m)\u001b[0m\u001b[0;34m\u001b[0m\u001b[0;34m\u001b[0m\u001b[0m\n\u001b[0;32m----> 9\u001b[0;31m \u001b[0mdf\u001b[0m\u001b[0;34m[\u001b[0m\u001b[0;34m'date'\u001b[0m\u001b[0;34m]\u001b[0m \u001b[0;34m=\u001b[0m \u001b[0mpd\u001b[0m\u001b[0;34m.\u001b[0m\u001b[0mto_datetime\u001b[0m\u001b[0;34m(\u001b[0m\u001b[0mdf\u001b[0m\u001b[0;34m.\u001b[0m\u001b[0mdate\u001b[0m\u001b[0;34m,\u001b[0m \u001b[0mformat\u001b[0m\u001b[0;34m=\u001b[0m\u001b[0;34m'%d-%m-%Y'\u001b[0m\u001b[0;34m)\u001b[0m\u001b[0;34m\u001b[0m\u001b[0;34m\u001b[0m\u001b[0m\n\u001b[0m\u001b[1;32m     10\u001b[0m \u001b[0mdf\u001b[0m\u001b[0;34m[\u001b[0m\u001b[0;34m'date'\u001b[0m\u001b[0;34m]\u001b[0m\u001b[0;34m=\u001b[0m\u001b[0mdf\u001b[0m\u001b[0;34m.\u001b[0m\u001b[0mdate\u001b[0m\u001b[0;34m.\u001b[0m\u001b[0mdt\u001b[0m\u001b[0;34m.\u001b[0m\u001b[0mstrftime\u001b[0m\u001b[0;34m(\u001b[0m\u001b[0;34m'%Y/%d/%m'\u001b[0m\u001b[0;34m)\u001b[0m\u001b[0;34m\u001b[0m\u001b[0;34m\u001b[0m\u001b[0m\n\u001b[1;32m     11\u001b[0m \u001b[0mdf\u001b[0m \u001b[0;34m=\u001b[0m \u001b[0mdf\u001b[0m\u001b[0;34m.\u001b[0m\u001b[0mset_index\u001b[0m\u001b[0;34m(\u001b[0m\u001b[0;34m'date'\u001b[0m\u001b[0;34m)\u001b[0m\u001b[0;34m\u001b[0m\u001b[0;34m\u001b[0m\u001b[0m\n",
            "\u001b[0;32m/usr/local/lib/python3.8/dist-packages/pandas/core/generic.py\u001b[0m in \u001b[0;36m__getattr__\u001b[0;34m(self, name)\u001b[0m\n\u001b[1;32m   5485\u001b[0m         ):\n\u001b[1;32m   5486\u001b[0m             \u001b[0;32mreturn\u001b[0m \u001b[0mself\u001b[0m\u001b[0;34m[\u001b[0m\u001b[0mname\u001b[0m\u001b[0;34m]\u001b[0m\u001b[0;34m\u001b[0m\u001b[0;34m\u001b[0m\u001b[0m\n\u001b[0;32m-> 5487\u001b[0;31m         \u001b[0;32mreturn\u001b[0m \u001b[0mobject\u001b[0m\u001b[0;34m.\u001b[0m\u001b[0m__getattribute__\u001b[0m\u001b[0;34m(\u001b[0m\u001b[0mself\u001b[0m\u001b[0;34m,\u001b[0m \u001b[0mname\u001b[0m\u001b[0;34m)\u001b[0m\u001b[0;34m\u001b[0m\u001b[0;34m\u001b[0m\u001b[0m\n\u001b[0m\u001b[1;32m   5488\u001b[0m \u001b[0;34m\u001b[0m\u001b[0m\n\u001b[1;32m   5489\u001b[0m     \u001b[0;32mdef\u001b[0m \u001b[0m__setattr__\u001b[0m\u001b[0;34m(\u001b[0m\u001b[0mself\u001b[0m\u001b[0;34m,\u001b[0m \u001b[0mname\u001b[0m\u001b[0;34m:\u001b[0m \u001b[0mstr\u001b[0m\u001b[0;34m,\u001b[0m \u001b[0mvalue\u001b[0m\u001b[0;34m)\u001b[0m \u001b[0;34m->\u001b[0m \u001b[0;32mNone\u001b[0m\u001b[0;34m:\u001b[0m\u001b[0;34m\u001b[0m\u001b[0;34m\u001b[0m\u001b[0m\n",
            "\u001b[0;31mAttributeError\u001b[0m: 'DataFrame' object has no attribute 'date'"
          ]
        }
      ]
    },
    {
      "cell_type": "code",
      "source": [
        "\n"
      ],
      "metadata": {
        "id": "LxQ5A4n9T3D9"
      },
      "execution_count": null,
      "outputs": []
    },
    {
      "cell_type": "code",
      "source": [],
      "metadata": {
        "id": "1_cR5SaLvs8u"
      },
      "execution_count": null,
      "outputs": []
    }
  ]
}