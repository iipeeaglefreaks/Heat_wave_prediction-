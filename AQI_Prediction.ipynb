{
  "nbformat": 4,
  "nbformat_minor": 0,
  "metadata": {
    "colab": {
      "provenance": []
    },
    "kernelspec": {
      "name": "python3",
      "display_name": "Python 3"
    },
    "language_info": {
      "name": "python"
    },
    "accelerator": "GPU",
    "gpuClass": "standard"
  },
  "cells": [
    {
      "cell_type": "markdown",
      "source": [
        "###Considering data as continous monthly data with dates\n"
      ],
      "metadata": {
        "id": "cd30ub0WHvBf"
      }
    },
    {
      "cell_type": "code",
      "source": [
        "from google.colab import drive\n",
        "drive.mount('/content/drive')"
      ],
      "metadata": {
        "id": "ayyzbV5d1DGO",
        "outputId": "1a4b9c57-42ec-49ad-b500-01b3bfa7d7b7",
        "colab": {
          "base_uri": "https://localhost:8080/"
        }
      },
      "execution_count": null,
      "outputs": [
        {
          "output_type": "stream",
          "name": "stdout",
          "text": [
            "Mounted at /content/drive\n"
          ]
        }
      ]
    },
    {
      "cell_type": "code",
      "source": [
        "import numpy as np\n",
        "import pandas as pd\n",
        "from sklearn.preprocessing import MinMaxScaler\n",
        "from tensorflow.keras.models import Sequential\n",
        "from tensorflow.keras.layers import LSTM, Dense\n",
        "\n",
        "# load data\n",
        "df = pd.read_csv('/content/AQI_data.csv')\n",
        "df['date'] = pd.to_datetime(df.date, format='%d-%m-%Y')\n",
        "df['date']=df.date.dt.strftime('%Y/%d/%m')\n",
        "df = df.set_index('date')\n",
        "\n",
        "# preprocess data\n",
        "scaler = MinMaxScaler()\n",
        "df_scaled = scaler.fit_transform(df)\n",
        "\n",
        "# split data into training and test sets\n",
        "train_size = int(len(df_scaled) * 0.8)\n",
        "train, test = df_scaled[:train_size, :], df_scaled[train_size:, :]\n",
        "\n",
        "# create sequences for LSTM model\n",
        "def create_sequences(dataset, seq_length):\n",
        "    X, y = [], []\n",
        "    for i in range(len(dataset) - seq_length):\n",
        "        X.append(dataset[i:i+seq_length, :])\n",
        "        y.append(dataset[i+seq_length, 0])\n",
        "    return np.array(X), np.array(y)\n",
        "\n",
        "seq_length = 60 # use 60 monthly time steps as input for LSTM\n",
        "train_X, train_y = create_sequences(train, seq_length)\n",
        "test_X, test_y = create_sequences(test, seq_length)\n",
        "\n",
        "# define LSTM model\n",
        "model = Sequential()\n",
        "model.add(LSTM(64, input_shape=(seq_length, train.shape[1])))\n",
        "model.add(Dense(1))\n",
        "model.compile(loss='mse', optimizer='adam')\n",
        "\n",
        "# train LSTM model\n",
        "model.fit(train_X, train_y, epochs=50, batch_size=16, verbose=2)\n",
        "\n",
        "# use LSTM model to forecast AQI for 2023\n",
        "num_forecasts = 12 # forecast for 12 months in 2023\n",
        "forecast_X = np.empty((num_forecasts, seq_length, train.shape[1]))\n",
        "last_train_seq = train_X[-1] # last sequence in training set\n",
        "forecast_X[0] = last_train_seq # first input for forecasting\n",
        "for i in range(1, num_forecasts):\n",
        "    last_seq_pred = model.predict(np.array([last_train_seq]))[0][0] # predict next value based on last sequence\n",
        "    last_train_seq = np.append(last_train_seq[1:], [[last_seq_pred]], axis=0) # add predicted value to sequence\n",
        "    forecast_X[i] = last_train_seq # add sequence to input for forecasting\n",
        "\n",
        "# forecast = scaler.inverse_transform(np.concatenate((df[-12:].values, forecast), axis=0))\n",
        "forecast = model.predict(forecast_X)\n",
        "forecast = scaler.inverse_transform(forecast)\n",
        "\n",
        "\n",
        "# plot actual vs forecasted AQI values\n",
        "import matplotlib.pyplot as plt\n",
        "plt.plot(list(forecast))\n",
        "plt.show()"
      ],
      "metadata": {
        "colab": {
          "base_uri": "https://localhost:8080/",
          "height": 1000
        },
        "id": "tBoekvbPr240",
        "outputId": "ada31d0d-b784-4640-f751-53938cf6ad98"
      },
      "execution_count": 2,
      "outputs": [
        {
          "output_type": "stream",
          "name": "stdout",
          "text": [
            "Epoch 1/50\n",
            "1/1 - 8s - loss: 0.2762 - 8s/epoch - 8s/step\n",
            "Epoch 2/50\n",
            "1/1 - 0s - loss: 0.2290 - 13ms/epoch - 13ms/step\n",
            "Epoch 3/50\n",
            "1/1 - 0s - loss: 0.1865 - 14ms/epoch - 14ms/step\n",
            "Epoch 4/50\n",
            "1/1 - 0s - loss: 0.1484 - 14ms/epoch - 14ms/step\n",
            "Epoch 5/50\n",
            "1/1 - 0s - loss: 0.1147 - 11ms/epoch - 11ms/step\n",
            "Epoch 6/50\n",
            "1/1 - 0s - loss: 0.0855 - 11ms/epoch - 11ms/step\n",
            "Epoch 7/50\n",
            "1/1 - 0s - loss: 0.0616 - 11ms/epoch - 11ms/step\n",
            "Epoch 8/50\n",
            "1/1 - 0s - loss: 0.0443 - 11ms/epoch - 11ms/step\n",
            "Epoch 9/50\n",
            "1/1 - 0s - loss: 0.0358 - 13ms/epoch - 13ms/step\n",
            "Epoch 10/50\n",
            "1/1 - 0s - loss: 0.0386 - 11ms/epoch - 11ms/step\n",
            "Epoch 11/50\n",
            "1/1 - 0s - loss: 0.0498 - 11ms/epoch - 11ms/step\n",
            "Epoch 12/50\n",
            "1/1 - 0s - loss: 0.0580 - 11ms/epoch - 11ms/step\n",
            "Epoch 13/50\n",
            "1/1 - 0s - loss: 0.0578 - 13ms/epoch - 13ms/step\n",
            "Epoch 14/50\n",
            "1/1 - 0s - loss: 0.0522 - 11ms/epoch - 11ms/step\n",
            "Epoch 15/50\n",
            "1/1 - 0s - loss: 0.0454 - 12ms/epoch - 12ms/step\n",
            "Epoch 16/50\n",
            "1/1 - 0s - loss: 0.0399 - 11ms/epoch - 11ms/step\n",
            "Epoch 17/50\n",
            "1/1 - 0s - loss: 0.0364 - 11ms/epoch - 11ms/step\n",
            "Epoch 18/50\n",
            "1/1 - 0s - loss: 0.0348 - 12ms/epoch - 12ms/step\n",
            "Epoch 19/50\n",
            "1/1 - 0s - loss: 0.0345 - 15ms/epoch - 15ms/step\n",
            "Epoch 20/50\n",
            "1/1 - 0s - loss: 0.0350 - 12ms/epoch - 12ms/step\n",
            "Epoch 21/50\n",
            "1/1 - 0s - loss: 0.0359 - 11ms/epoch - 11ms/step\n",
            "Epoch 22/50\n",
            "1/1 - 0s - loss: 0.0368 - 15ms/epoch - 15ms/step\n",
            "Epoch 23/50\n",
            "1/1 - 0s - loss: 0.0375 - 13ms/epoch - 13ms/step\n",
            "Epoch 24/50\n",
            "1/1 - 0s - loss: 0.0380 - 11ms/epoch - 11ms/step\n",
            "Epoch 25/50\n",
            "1/1 - 0s - loss: 0.0382 - 13ms/epoch - 13ms/step\n",
            "Epoch 26/50\n",
            "1/1 - 0s - loss: 0.0380 - 15ms/epoch - 15ms/step\n",
            "Epoch 27/50\n",
            "1/1 - 0s - loss: 0.0376 - 11ms/epoch - 11ms/step\n",
            "Epoch 28/50\n",
            "1/1 - 0s - loss: 0.0371 - 12ms/epoch - 12ms/step\n",
            "Epoch 29/50\n",
            "1/1 - 0s - loss: 0.0364 - 11ms/epoch - 11ms/step\n",
            "Epoch 30/50\n",
            "1/1 - 0s - loss: 0.0356 - 11ms/epoch - 11ms/step\n",
            "Epoch 31/50\n",
            "1/1 - 0s - loss: 0.0349 - 11ms/epoch - 11ms/step\n",
            "Epoch 32/50\n",
            "1/1 - 0s - loss: 0.0343 - 11ms/epoch - 11ms/step\n",
            "Epoch 33/50\n",
            "1/1 - 0s - loss: 0.0338 - 11ms/epoch - 11ms/step\n",
            "Epoch 34/50\n",
            "1/1 - 0s - loss: 0.0334 - 12ms/epoch - 12ms/step\n",
            "Epoch 35/50\n",
            "1/1 - 0s - loss: 0.0332 - 11ms/epoch - 11ms/step\n",
            "Epoch 36/50\n",
            "1/1 - 0s - loss: 0.0331 - 10ms/epoch - 10ms/step\n",
            "Epoch 37/50\n",
            "1/1 - 0s - loss: 0.0332 - 10ms/epoch - 10ms/step\n",
            "Epoch 38/50\n",
            "1/1 - 0s - loss: 0.0333 - 10ms/epoch - 10ms/step\n",
            "Epoch 39/50\n",
            "1/1 - 0s - loss: 0.0334 - 10ms/epoch - 10ms/step\n",
            "Epoch 40/50\n",
            "1/1 - 0s - loss: 0.0335 - 11ms/epoch - 11ms/step\n",
            "Epoch 41/50\n",
            "1/1 - 0s - loss: 0.0335 - 15ms/epoch - 15ms/step\n",
            "Epoch 42/50\n",
            "1/1 - 0s - loss: 0.0335 - 12ms/epoch - 12ms/step\n",
            "Epoch 43/50\n",
            "1/1 - 0s - loss: 0.0334 - 10ms/epoch - 10ms/step\n",
            "Epoch 44/50\n",
            "1/1 - 0s - loss: 0.0332 - 10ms/epoch - 10ms/step\n",
            "Epoch 45/50\n",
            "1/1 - 0s - loss: 0.0330 - 10ms/epoch - 10ms/step\n",
            "Epoch 46/50\n",
            "1/1 - 0s - loss: 0.0328 - 10ms/epoch - 10ms/step\n",
            "Epoch 47/50\n",
            "1/1 - 0s - loss: 0.0326 - 12ms/epoch - 12ms/step\n",
            "Epoch 48/50\n",
            "1/1 - 0s - loss: 0.0324 - 12ms/epoch - 12ms/step\n",
            "Epoch 49/50\n",
            "1/1 - 0s - loss: 0.0323 - 10ms/epoch - 10ms/step\n",
            "Epoch 50/50\n",
            "1/1 - 0s - loss: 0.0322 - 10ms/epoch - 10ms/step\n",
            "1/1 [==============================] - 0s 482ms/step\n",
            "1/1 [==============================] - 0s 19ms/step\n",
            "1/1 [==============================] - 0s 19ms/step\n",
            "1/1 [==============================] - 0s 21ms/step\n",
            "1/1 [==============================] - 0s 19ms/step\n",
            "1/1 [==============================] - 0s 22ms/step\n",
            "1/1 [==============================] - 0s 20ms/step\n",
            "1/1 [==============================] - 0s 22ms/step\n",
            "1/1 [==============================] - 0s 21ms/step\n",
            "1/1 [==============================] - 0s 22ms/step\n",
            "1/1 [==============================] - 0s 21ms/step\n",
            "1/1 [==============================] - 0s 23ms/step\n"
          ]
        },
        {
          "output_type": "display_data",
          "data": {
            "text/plain": [
              "<Figure size 432x288 with 1 Axes>"
            ],
            "image/png": "[encoded data removed]"
          },
          "metadata": {
            "needs_background": "light"
          }
        }
      ]
    }
  ]
}